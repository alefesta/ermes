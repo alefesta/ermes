{
 "cells": [
  {
   "cell_type": "code",
   "execution_count": null,
   "metadata": {},
   "outputs": [],
   "source": [
    "%%appyter {cell_type}"
   ]
  },
  {
   "cell_type": "markdown",
   "metadata": {},
   "source": [
    "# My Title\n",
    "\n",
    "My description"
   ]
  },
  {
   "cell_type": "code",
   "execution_count": null,
   "metadata": {},
   "outputs": [],
   "source": [
    "answer = 5 + 5"
   ]
  },
  {
   "cell_type": "code",
   "execution_count": null,
   "metadata": {},
   "outputs": [],
   "source": [
    "# Parse variables alone\n",
    "assert parse_variables(appyter) == {\n",
    "  'number_1': IntField(name='number_1', label='First Number', min=0, max=10, default=5),\n",
    "  'number_2': IntField(name='number_2', label='Second Number', min=0, max=10, default=5),\n",
    "  'operator': ChoiceField(\n",
    "    name='operator',\n",
    "    label='Operator',\n",
    "    choices={\n",
    "      'add': '+',\n",
    "      'subtract': '-',\n",
    "      'multiply': '*',\n",
    "      'divide': '/',\n",
    "      'power': '**'\n",
    "    },\n",
    "    default='add'\n",
    "  ),\n",
    "}\n",
    "\n",
    "# Render jupyter notebook with variables substituted\n",
    "assert render_jupyter(appyter, {\n",
    "  'title': 'Test',\n",
    "  'description': '',\n",
    "  'number_1': 0,\n",
    "  'number_2': 5,\n",
    "  'operator': 'subtract',\n",
    "}) == '''\n",
    "---\n",
    "# Test\n",
    "\n",
    "---\n",
    "answer = 0 - 5\n",
    "---\n",
    "''' # in valid ipynb syntax\n",
    "\n",
    "# Render web UI\n",
    "assert render_html(appyter) == '''\n",
    "<form id=\"notebook\">\n",
    "  Title: <input type=\"string\" name=\"title\"></input>\n",
    "  Description: <textarea name=\"description\"></textarea>\n",
    "  First Number: <input type=\"number\" name=\"number_1\" min=0 max=10></input>\n",
    "  Second Number: <input type=\"number\" name=\"number_2\" min=0 max=10></input>\n",
    "  Operator: <select name=\"operator\">\n",
    "    <option value=\"add\">add</option>\n",
    "    <option value=\"subtract\">subtract</option>\n",
    "    <option value=\"divide\">divide</option>\n",
    "    <option value=\"power\">power</option>\n",
    "  </select>\n",
    "  <input type=\"submit\" text=\"Submit\"></input>\n",
    "</form>\n",
    "<script src=\"./appyter.js\"></script>\n",
    "<script>\n",
    "  document.getElementById(\"notebook\").on('submit', appyter.submit)\n",
    "</script>\n",
    "'''\n",
    "\n",
    "# Web UI Renderer\n",
    "assert render_html_renderer(appyter, {\n",
    "  'title': 'Test',\n",
    "  'description': '',\n",
    "  'number_1': 0,\n",
    "  'number_2': 5,\n",
    "  'operator': 'subtract',\n",
    "}) == '''\n",
    "<div id=\"notebook\"></div>\n",
    "<script src=\"./appyter.js\"></script>\n",
    "<script>\n",
    "  document.on('load', function () {\n",
    "    appyter.render(\n",
    "      document.getElementById(\"notebook\"),\n",
    "      {\n",
    "        \"title\": \"Test\",\n",
    "        \"description\": \"\",\n",
    "        \"number_1\": 0,\n",
    "        \"number_2\": 5,\n",
    "        \"operator\": \"subtract\",\n",
    "      }\n",
    "    )\n",
    "  })\n",
    "</script>\n",
    "'''"
   ]
  }
 ],
 "metadata": {
  "appyter": {
   "nbconstruct": {
    "created": "2022-03-07T11:02:32.498509+00:00",
    "data": {
     "description": "My description",
     "number_1": "5",
     "number_2": "5",
     "operator": "add",
     "title": "My Title"
    },
    "filename": "source/test.ipynb",
    "files": {},
    "version": "0.18.10"
   }
  },
  "language_info": {
   "name": "python"
  }
 },
 "nbformat": 4,
 "nbformat_minor": 2
}
